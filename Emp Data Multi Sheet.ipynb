{
 "cells": [
  {
   "cell_type": "code",
   "execution_count": 13,
   "metadata": {},
   "outputs": [],
   "source": [
    "import pandas as pd\n",
    "from datetime import datetime"
   ]
  },
  {
   "cell_type": "code",
   "execution_count": 14,
   "metadata": {},
   "outputs": [],
   "source": [
    "#Read excel sheet as dataframe\n",
    "df =pd.read_excel(\"Test Emp.xlsx\", index_col =None)\n",
    "df= df[(df['Term_Dt'].isnull())]\n",
    "#df"
   ]
  },
  {
   "cell_type": "code",
   "execution_count": 15,
   "metadata": {},
   "outputs": [],
   "source": [
    "#Filter for Active Employees in Hometown=Washington Population\n",
    "dfHometown = df[(df['Term_Dt'].isnull()) & (df['Hometown'].str.contains('Washington'))]\n",
    "\n",
    "#Selecting column for Custom Employee Washington Report\n",
    "dfHometown= dfHometown.iloc[:, 0:15] \n",
    "dfHometown= dfHometown.drop(['Relationship_Status','Gender'], axis =1)\n",
    "#dfHometown"
   ]
  },
  {
   "cell_type": "code",
   "execution_count": 18,
   "metadata": {},
   "outputs": [],
   "source": [
    "#Filter for Group=IT Population with 3+ years Time_of_service Population\n",
    "dfGroup = df[(df['Term_Dt'].isnull()) & (df['Time_of_service'] >= 3)  & (df['Group'].str.contains('IT'))]\n",
    "\n",
    "# #Selecting column for Custom Group Report\n",
    "dfGroup = dfGroup.iloc[:, 0:15] \n",
    "dfGroup= dfGroup.drop(['Age','Relationship_Status','Gender'], axis=1)\n",
    "\n",
    "# Reorder columns Group as 1st column\n",
    "column_to_move = dfGroup.pop(\"Group\")\n",
    "\n",
    "# insert column with insert(location, column_name, column_value)\n",
    "dfGroup.insert(0, \"Group\", column_to_move)\n",
    "#dfGroup"
   ]
  },
  {
   "cell_type": "code",
   "execution_count": 16,
   "metadata": {},
   "outputs": [],
   "source": [
    "#Filter for not in Group=IT but with 3+ years Time_of_service Population\n",
    "dfGroup = df[(df['Term_Dt'].isnull()) & (df['Time_of_service'] >= 3)  & (df['Group'].str.contains('IT')== False)]\n",
    "\n",
    "# #Selecting column for Custom Group Report\n",
    "dfGroup = dfGroup.iloc[:, 0:15] \n",
    "dfGroup= dfGroup.drop(['Age','Relationship_Status','Gender'], axis=1)\n",
    "\n",
    "# Reorder columns Group as 1st column\n",
    "column_to_move = dfGroup.pop(\"Group\")\n",
    "\n",
    "# insert column with insert(location, column_name, column_value)\n",
    "dfGroup.insert(0, \"Group\", column_to_move)\n",
    "#dfGroup"
   ]
  },
  {
   "cell_type": "code",
   "execution_count": 17,
   "metadata": {},
   "outputs": [],
   "source": [
    "##Create and Save the excel file- Saving to a new sheets for each type of population\n",
    "with pd.ExcelWriter('Custom Report.xlsx') as writer:\n",
    "    dfHometown.to_excel(writer, sheet_name='Washington Population', index= False) #Saving to a new sheet called Filtered Data\n",
    "    dfGroup.to_excel(writer, sheet_name='Non-IT Emp service 3+ years', index= False) "
   ]
  }
 ],
 "metadata": {
  "kernelspec": {
   "display_name": "Python 3",
   "language": "python",
   "name": "python3"
  },
  "language_info": {
   "codemirror_mode": {
    "name": "ipython",
    "version": 3
   },
   "file_extension": ".py",
   "mimetype": "text/x-python",
   "name": "python",
   "nbconvert_exporter": "python",
   "pygments_lexer": "ipython3",
   "version": "3.12.3"
  }
 },
 "nbformat": 4,
 "nbformat_minor": 2
}
